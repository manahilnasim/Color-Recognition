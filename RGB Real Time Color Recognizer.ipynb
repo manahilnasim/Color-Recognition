# -*- coding: utf-8 -*-
"""
Created on Mon Dec 11 05:08:41 2023

@author: Manahil
"""
import numpy as np
import pandas as pd
import cv2
import imutils

# Starting the webcam
camera = cv2.VideoCapture(0)

# Initializing variables for color and position
r = g = b = xpos = ypos = 0

# Defining column names for the color data
index = ['color', 'color_name', 'hex', 'R', 'G', 'B']
# Reading the color dataset
df = pd.read_csv("C:\\Users\\Manahil\\Downloads\\colors.csv", names=index, header=None)

# Function to get the name of the color and its hex value
def getColorName(R,G,B):
	minimum = 10000
	for i in range(len(df)):
		d = abs(R - int(df.loc[i,"R"])) + abs(G - int(df.loc[i,"G"])) + abs(B - int(df.loc[i,"B"]))
		if (d <= minimum):
			minimum = d
			cname = df.loc[i, 'color_name'] + '   Hex=' + df.loc[i, 'hex']
	return cname

# Function to capture the mouse click event and get color at the clicked position
def identify_color(event, x, y, flags, param):
	global b, g, r, xpos, ypos, clicked
	xpos = x
	ypos = y
	b, g, r = frame[y,x]
	b = int(b)
	g = int(g)
	r = int(r)

# Creating a window and setting a callback function for mouse events
cv2.namedWindow('image')
cv2.setMouseCallback('image', identify_color)

while True:
    # Capturing the video frame-by-frame
    (grabbed, frame) = camera.read()
    # Resizing the frame for consistency
    frame = imutils.resize(frame, width=900)
    kernal = np.ones((5, 5), "uint8")
    # Drawing a rectangle filled with the color we've clicked on
    cv2.rectangle(frame, (20,20), (800, 60),(b,g,r), -1)    
    
    # Preparing the text to be displayed (color name and RGB values)
    text = getColorName(b,g,r) + '   R=' + str(r) + ' G=' + str(g) + ' B=' + str(b)
    # Adding the text to the frame
    cv2.putText(frame,text, (50,50),2, 0.8, (255,255,255),2,cv2.LINE_AA)
    
    # If the color is very light, we display the text in black color for visibility
    if(r+g+b >= 600):
        cv2.putText(frame,text,(50,50), 2, 0.8, (0,0,0),2,cv2.LINE_AA)   
    
    # Displaying the frame
    cv2.imshow('image',frame)
    
    if cv2.waitKey(20) & 0xFF == 27:
        break
    
# Releasing the camera and closing all windows    
camera.release()
cv2.destroyAllWindows()

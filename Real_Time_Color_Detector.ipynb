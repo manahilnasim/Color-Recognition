{
  "nbformat": 4,
  "nbformat_minor": 0,
  "metadata": {
    "colab": {
      "provenance": []
    },
    "kernelspec": {
      "name": "python3",
      "display_name": "Python 3"
    },
    "language_info": {
      "name": "python"
    }
  },
  "cells": [
    {
      "cell_type": "code",
      "execution_count": null,
      "metadata": {
        "id": "47X3TBOdVpX5"
      },
      "outputs": [],
      "source": [
        "import numpy as np\n",
        "import pandas as pd\n",
        "import cv2\n",
        "import imutils\n",
        "\n",
        "# Starting the webcam\n",
        "camera = cv2.VideoCapture(0)\n",
        "\n",
        "# Initializing variables for color and position\n",
        "r = g = b = xpos = ypos = 0\n",
        "\n",
        "# Defining column names for the color data\n",
        "index = ['color', 'color_name', 'hex', 'R', 'G', 'B']\n",
        "# Reading the color dataset\n",
        "df = pd.read_csv(\"C:\\\\Users\\\\Manahil\\\\Downloads\\\\colors.csv\", names=index, header=None)\n",
        "\n",
        "# Function to get the name of the color and its hex value\n",
        "def getColorName(R,G,B):\n",
        "\tminimum = 10000\n",
        "\tfor i in range(len(df)):\n",
        "\t\td = abs(R - int(df.loc[i,\"R\"])) + abs(G - int(df.loc[i,\"G\"])) + abs(B - int(df.loc[i,\"B\"]))\n",
        "\t\tif (d <= minimum):\n",
        "\t\t\tminimum = d\n",
        "\t\t\tcname = df.loc[i, 'color_name'] + '   Hex=' + df.loc[i, 'hex']\n",
        "\treturn cname\n",
        "\n",
        "# Function to capture the mouse click event and get color at the clicked position\n",
        "def identify_color(event, x, y, flags, param):\n",
        "\tglobal b, g, r, xpos, ypos, clicked\n",
        "\txpos = x\n",
        "\typos = y\n",
        "\tb, g, r = frame[y,x]\n",
        "\tb = int(b)\n",
        "\tg = int(g)\n",
        "\tr = int(r)\n",
        "\n",
        "# Creating a window and setting a callback function for mouse events\n",
        "cv2.namedWindow('image')\n",
        "cv2.setMouseCallback('image', identify_color)\n",
        "\n",
        "while True:\n",
        "    # Capturing the video frame-by-frame\n",
        "    (grabbed, frame) = camera.read()\n",
        "    # Resizing the frame for consistency\n",
        "    frame = imutils.resize(frame, width=900)\n",
        "    kernal = np.ones((5, 5), \"uint8\")\n",
        "    # Drawing a rectangle filled with the color we've clicked on\n",
        "    cv2.rectangle(frame, (20,20), (800, 60),(b,g,r), -1)\n",
        "\n",
        "    # Preparing the text to be displayed (color name and RGB values)\n",
        "    text = getColorName(b,g,r) + '   R=' + str(r) + ' G=' + str(g) + ' B=' + str(b)\n",
        "    # Adding the text to the frame\n",
        "    cv2.putText(frame,text, (50,50),2, 0.8, (255,255,255),2,cv2.LINE_AA)\n",
        "\n",
        "    # If the color is very light, we display the text in black color for visibility\n",
        "    if(r+g+b >= 600):\n",
        "        cv2.putText(frame,text,(50,50), 2, 0.8, (0,0,0),2,cv2.LINE_AA)\n",
        "\n",
        "    # Displaying the frame\n",
        "    cv2.imshow('image',frame)\n",
        "\n",
        "    if cv2.waitKey(20) & 0xFF == 27:\n",
        "        break\n",
        "\n",
        "# Releasing the camera and closing all windows\n",
        "camera.release()\n",
        "cv2.destroyAllWindows()"
      ]
    }
  ]
}